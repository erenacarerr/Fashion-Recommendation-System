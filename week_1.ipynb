{
 "cells": [
  {
   "attachments": {},
   "cell_type": "markdown",
   "metadata": {},
   "source": [
    "## FASION RECOMMENDATION SYSTEM BASED ON USER REQUEST"
   ]
  },
  {
   "attachments": {},
   "cell_type": "markdown",
   "metadata": {},
   "source": [
    "### 1st week\n",
    "    One of the requested projects for the machine learning course was to design a program that creates a fashion recommendation system. The starting point of the project was that we thought about how we could use fashion and artificial intelligence together, and we started researching to create a program that makes combinations according to the person. To start the project, we first needed a database. After finding a suitable data set with clothing photos, all we have to do is decide how to score combination suggestions. We searched for suitable training systems to train our data. As a result of our research, we decided to use the Convolutional Neural Networks (CNN) method for image processing."
   ]
  },
  {
   "cell_type": "code",
   "execution_count": null,
   "metadata": {
    "vscode": {
     "languageId": "plaintext"
    }
   },
   "outputs": [],
   "source": []
  }
 ],
 "metadata": {
  "language_info": {
   "name": "python"
  },
  "orig_nbformat": 4
 },
 "nbformat": 4,
 "nbformat_minor": 2
}
