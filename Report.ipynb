{
 "cells": [
  {
   "cell_type": "markdown",
   "metadata": {},
   "source": [
    "\n",
    "# REPORT"
   ]
  },
  {
   "cell_type": "markdown",
   "metadata": {},
   "source": [
    "In week 2, We made a huge progress on the project. We also encountered many problems, for example we had to change our data set. The quality of the photographs in the data set we chose when we started the project was insufficient for the project we were going to do. "
   ]
  },
  {
   "cell_type": "markdown",
   "metadata": {},
   "source": [
    "### Creating the Database"
   ]
  },
  {
   "cell_type": "markdown",
   "metadata": {},
   "source": [
    "We decided to take our data set from trendyol.com, one of the largest online shopping sites in Turkey. Although we can do this with libraries such as beautifulsoup, we decided to download the photos on the page both ethically and in order to access the files. As we thought before, we divided the photos into trousers and t-shirts and thus created our dataset."
   ]
  },
  {
   "cell_type": "markdown",
   "metadata": {},
   "source": [
    "### App for Scoring"
   ]
  },
  {
   "cell_type": "markdown",
   "metadata": {},
   "source": [
    "Our goal was to give points to the combinations we offered to the user and suggest combinations in line with this score. In this regard, we decided to make a scoring application. After some research, we found that we can do this using the tkinter library for this application"
   ]
  },
  {
   "cell_type": "markdown",
   "metadata": {},
   "source": [
    "The program randomly chose two photos, a trouser photo and a t-shirt photo, and created a combination. We put a bar right below it for scoring. You can select numbers from 0 to 10 on the bar(0 means \"I don't it like at all\" , 10 means \"I love it\") and when we press the confirm box, the next combination moves on. It also puts the path and score of the files into a tuple."
   ]
  },
  {
   "cell_type": "markdown",
   "metadata": {},
   "source": [
    "### Converting to dataframe"
   ]
  },
  {
   "cell_type": "markdown",
   "metadata": {},
   "source": [
    "In this part of the program, we wanted to put the scored combinations together with their scores into a dataframe. Thus, we could start the model training stages. We created a 3*20 dataframe with columns [pants_path, tshirt_path, score]"
   ]
  },
  {
   "cell_type": "markdown",
   "metadata": {},
   "source": [
    "### Creating the Model\n"
   ]
  },
  {
   "cell_type": "markdown",
   "metadata": {},
   "source": [
    "Before we started training the model, we examined the methods we used and similar projects for a long time and created the road map to follow."
   ]
  },
  {
   "cell_type": "markdown",
   "metadata": {},
   "source": [
    "We divided this part of the project into 4 main parts : preparing data, creating models, training models, providing suggestions"
   ]
  },
  {
   "cell_type": "markdown",
   "metadata": {},
   "source": [
    "##### Prepering Data:\n",
    "After adding the scikit-learn library, we divided the dataframe into test and training sets."
   ]
  },
  {
   "cell_type": "markdown",
   "metadata": {},
   "source": [
    "##### Creating Model\n",
    "While creating our model, we started to create a Convolutional neural network model, which is frequently used in image processing. We took the model, which was in a sample project, into our project to try it out. To briefly summarize the model, there are two separate inputs at the entrance, one for the trousers and the other for the t-shirt. There is a hidden layer in between and there is a score on the layer where the outputs of both branches meet. howeverAt this stage of the project, we encountered a problem that we have not yet solved. In short, our problem is that the dimensions of the photographs do not match the model we created. Even though we reshaped the photos that did this with the resize command, it did not work and we remained at this stage of the project."
   ]
  }
 ],
 "metadata": {
  "language_info": {
   "name": "python"
  }
 },
 "nbformat": 4,
 "nbformat_minor": 2
}
